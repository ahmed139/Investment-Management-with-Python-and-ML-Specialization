{
 "cells": [
  {
   "cell_type": "code",
   "execution_count": 1,
   "id": "98834f65-1a6f-405f-a78a-61802e9fa9a8",
   "metadata": {},
   "outputs": [],
   "source": [
    "import pandas as pd\n",
    "import numpy as np\n",
    "import matplotlib.pyplot as plt\n",
    "import edhec_risk_kit as erk"
   ]
  },
  {
   "cell_type": "code",
   "execution_count": 2,
   "id": "bddeafed-4a62-4691-81b8-82af16aeab31",
   "metadata": {},
   "outputs": [],
   "source": [
    "B1 = erk.bond_price(15, 1000, .05, 2, .05)\n",
    "B2 = erk.bond_price(5, 1000, .06, 4, .05)\n",
    "B3 = erk.bond_price(10, 1000, 0, 1, .05)"
   ]
  },
  {
   "cell_type": "code",
   "execution_count": 3,
   "id": "bad24e3f-efe7-420e-9804-5b0256e27866",
   "metadata": {},
   "outputs": [
    {
     "data": {
      "text/plain": [
       "0    613.913254\n",
       "dtype: float64"
      ]
     },
     "execution_count": 3,
     "metadata": {},
     "output_type": "execute_result"
    }
   ],
   "source": [
    "B3"
   ]
  },
  {
   "cell_type": "code",
   "execution_count": 4,
   "id": "02ddfadf-c871-458b-ba77-d4e3cbeaadab",
   "metadata": {},
   "outputs": [
    {
     "data": {
      "text/plain": [
       "0    1000.0\n",
       "dtype: float64"
      ]
     },
     "execution_count": 4,
     "metadata": {},
     "output_type": "execute_result"
    }
   ],
   "source": [
    "B1"
   ]
  },
  {
   "cell_type": "code",
   "execution_count": 5,
   "id": "b24984ea-471d-4e09-a11f-9f8c2741e2da",
   "metadata": {},
   "outputs": [
    {
     "data": {
      "text/plain": [
       "0    1043.99829\n",
       "dtype: float64"
      ]
     },
     "execution_count": 5,
     "metadata": {},
     "output_type": "execute_result"
    }
   ],
   "source": [
    "B2"
   ]
  },
  {
   "cell_type": "code",
   "execution_count": 6,
   "id": "2baa551a-cd70-459e-92fd-5b9f023029ab",
   "metadata": {},
   "outputs": [
    {
     "data": {
      "text/plain": [
       "0.63"
      ]
     },
     "execution_count": 6,
     "metadata": {},
     "output_type": "execute_result"
    }
   ],
   "source": [
    "round(0.6257, 2)"
   ]
  },
  {
   "cell_type": "code",
   "execution_count": null,
   "id": "fd4a30ce-935f-4bc2-a4d2-8c40e6d96a64",
   "metadata": {},
   "outputs": [],
   "source": []
  }
 ],
 "metadata": {
  "kernelspec": {
   "display_name": "Python 3",
   "language": "python",
   "name": "python3"
  },
  "language_info": {
   "codemirror_mode": {
    "name": "ipython",
    "version": 3
   },
   "file_extension": ".py",
   "mimetype": "text/x-python",
   "name": "python",
   "nbconvert_exporter": "python",
   "pygments_lexer": "ipython3",
   "version": "3.6.13"
  }
 },
 "nbformat": 4,
 "nbformat_minor": 5
}
