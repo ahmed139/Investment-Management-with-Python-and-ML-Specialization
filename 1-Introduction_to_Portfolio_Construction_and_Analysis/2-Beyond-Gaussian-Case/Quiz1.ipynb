{
 "cells": [
  {
   "cell_type": "code",
   "execution_count": 21,
   "id": "8069632e-a59e-49bb-bfe3-f145d5821f0b",
   "metadata": {},
   "outputs": [
    {
     "name": "stdout",
     "output_type": "stream",
     "text": [
      "The autoreload extension is already loaded. To reload it, use:\n",
      "  %reload_ext autoreload\n"
     ]
    }
   ],
   "source": [
    "import pandas as pd\n",
    "import edhec_risk_kit as erk\n",
    "import numpy as np\n",
    "%load_ext autoreload\n",
    "%autoreload 2\n"
   ]
  },
  {
   "cell_type": "code",
   "execution_count": 9,
   "id": "2814b893-2f15-4047-a1f5-72a18a7c7baa",
   "metadata": {},
   "outputs": [],
   "source": [
    "def get_ffme_returns():\n",
    "    \"\"\"\n",
    "    Load the Fama-French Dataset for the returns of the Top and Bottom Deciles by MarketCap\n",
    "    \"\"\"\n",
    "    me_m = pd.read_csv(\"../data/Portfolios_Formed_on_ME_monthly_EW.csv\",\n",
    "                       header=0, index_col=0, na_values=-99.99)\n",
    "    rets = me_m[['Lo 20', 'Hi 20']]\n",
    "    rets.columns = ['SmallCap', 'LargeCap']\n",
    "    rets = rets/100\n",
    "    rets.index = pd.to_datetime(rets.index, format=\"%Y%m\").to_period('M')\n",
    "    return rets"
   ]
  },
  {
   "cell_type": "code",
   "execution_count": 10,
   "id": "50d2ea72-ca37-40fa-89c1-179bd7d1c20d",
   "metadata": {},
   "outputs": [
    {
     "data": {
      "text/html": [
       "<div>\n",
       "<style scoped>\n",
       "    .dataframe tbody tr th:only-of-type {\n",
       "        vertical-align: middle;\n",
       "    }\n",
       "\n",
       "    .dataframe tbody tr th {\n",
       "        vertical-align: top;\n",
       "    }\n",
       "\n",
       "    .dataframe thead th {\n",
       "        text-align: right;\n",
       "    }\n",
       "</style>\n",
       "<table border=\"1\" class=\"dataframe\">\n",
       "  <thead>\n",
       "    <tr style=\"text-align: right;\">\n",
       "      <th></th>\n",
       "      <th>SmallCap</th>\n",
       "      <th>LargeCap</th>\n",
       "    </tr>\n",
       "  </thead>\n",
       "  <tbody>\n",
       "    <tr>\n",
       "      <th>1926-07</th>\n",
       "      <td>-0.0057</td>\n",
       "      <td>0.0333</td>\n",
       "    </tr>\n",
       "    <tr>\n",
       "      <th>1926-08</th>\n",
       "      <td>0.0384</td>\n",
       "      <td>0.0233</td>\n",
       "    </tr>\n",
       "    <tr>\n",
       "      <th>1926-09</th>\n",
       "      <td>-0.0048</td>\n",
       "      <td>-0.0009</td>\n",
       "    </tr>\n",
       "    <tr>\n",
       "      <th>1926-10</th>\n",
       "      <td>-0.0329</td>\n",
       "      <td>-0.0295</td>\n",
       "    </tr>\n",
       "    <tr>\n",
       "      <th>1926-11</th>\n",
       "      <td>-0.0055</td>\n",
       "      <td>0.0316</td>\n",
       "    </tr>\n",
       "  </tbody>\n",
       "</table>\n",
       "</div>"
      ],
      "text/plain": [
       "         SmallCap  LargeCap\n",
       "1926-07   -0.0057    0.0333\n",
       "1926-08    0.0384    0.0233\n",
       "1926-09   -0.0048   -0.0009\n",
       "1926-10   -0.0329   -0.0295\n",
       "1926-11   -0.0055    0.0316"
      ]
     },
     "execution_count": 10,
     "metadata": {},
     "output_type": "execute_result"
    }
   ],
   "source": [
    "ffme = get_ffme_returns()\n",
    "ffme.head()"
   ]
  },
  {
   "cell_type": "code",
   "execution_count": 24,
   "id": "d934190a-1c23-4968-98eb-c333a0ad37e0",
   "metadata": {},
   "outputs": [],
   "source": [
    "# First do the rest without this cell\n",
    "# Then use this one from question 5.\n",
    "ffme = ffme.loc['1999':'2015']"
   ]
  },
  {
   "cell_type": "code",
   "execution_count": 25,
   "id": "9dbcd59a-9833-4ea4-a327-44016cd18892",
   "metadata": {},
   "outputs": [],
   "source": [
    "rets = (ffme + 1).prod()"
   ]
  },
  {
   "cell_type": "code",
   "execution_count": 26,
   "id": "3ab08104-fb56-46f4-bd7d-5d5322f7fe12",
   "metadata": {},
   "outputs": [
    {
     "data": {
      "text/plain": [
       "204"
      ]
     },
     "execution_count": 26,
     "metadata": {},
     "output_type": "execute_result"
    }
   ],
   "source": [
    "number_of_obs = ffme.shape[0]\n",
    "number_of_obs"
   ]
  },
  {
   "cell_type": "code",
   "execution_count": 27,
   "id": "add8146e-d0fd-44ad-a3dc-7253f4699f79",
   "metadata": {},
   "outputs": [
    {
     "data": {
      "text/plain": [
       "SmallCap    11.44\n",
       "LargeCap     6.29\n",
       "dtype: float64"
      ]
     },
     "execution_count": 27,
     "metadata": {},
     "output_type": "execute_result"
    }
   ],
   "source": [
    "annualized_returns = rets ** (12/number_of_obs) - 1\n",
    "(annualized_returns*100).round(2)"
   ]
  },
  {
   "cell_type": "code",
   "execution_count": 29,
   "id": "9064246c-97ac-40cb-874a-d9f9ca2130dc",
   "metadata": {},
   "outputs": [
    {
     "data": {
      "text/plain": [
       "SmallCap    0.066076\n",
       "LargeCap    0.049858\n",
       "dtype: float64"
      ]
     },
     "execution_count": 29,
     "metadata": {},
     "output_type": "execute_result"
    }
   ],
   "source": [
    "# volatility over the entire period\n",
    "volatility = ffme.std()\n",
    "volatility"
   ]
  },
  {
   "cell_type": "code",
   "execution_count": 30,
   "id": "d1c60219-1435-4cbb-8f93-9867260074b8",
   "metadata": {},
   "outputs": [
    {
     "data": {
      "text/plain": [
       "SmallCap    22.89\n",
       "LargeCap    17.27\n",
       "dtype: float64"
      ]
     },
     "execution_count": 30,
     "metadata": {},
     "output_type": "execute_result"
    }
   ],
   "source": [
    "volatility_annualized = volatility * np.sqrt(12)\n",
    "(volatility_annualized*100).round(2)"
   ]
  },
  {
   "cell_type": "code",
   "execution_count": 36,
   "id": "4a630dd3-6866-4325-afb5-00c721f5f59c",
   "metadata": {},
   "outputs": [
    {
     "data": {
      "text/plain": [
       "-62.48"
      ]
     },
     "execution_count": 36,
     "metadata": {},
     "output_type": "execute_result"
    }
   ],
   "source": [
    "ddown = erk.drawdown(ffme['SmallCap'])['Drawdown'].min()\n",
    "(ddown*100).round(2)"
   ]
  },
  {
   "cell_type": "code",
   "execution_count": 37,
   "id": "51102ebc-0105-4d60-9715-3c7225c75646",
   "metadata": {},
   "outputs": [
    {
     "data": {
      "text/plain": [
       "Period('2009-02', 'M')"
      ]
     },
     "execution_count": 37,
     "metadata": {},
     "output_type": "execute_result"
    }
   ],
   "source": [
    "erk.drawdown(ffme['SmallCap'])['Drawdown'].idxmin()"
   ]
  },
  {
   "cell_type": "code",
   "execution_count": 38,
   "id": "1208ede8-9cec-4def-b695-b8d0b0631da3",
   "metadata": {},
   "outputs": [
    {
     "data": {
      "text/plain": [
       "55.27"
      ]
     },
     "execution_count": 38,
     "metadata": {},
     "output_type": "execute_result"
    }
   ],
   "source": [
    "ddown_large = erk.drawdown(ffme['LargeCap'])['Drawdown'].min()\n",
    "-(ddown_large*100).round(2)"
   ]
  },
  {
   "cell_type": "code",
   "execution_count": 39,
   "id": "2881c892-fcb3-487a-aa58-8c7c159618c3",
   "metadata": {},
   "outputs": [
    {
     "data": {
      "text/plain": [
       "Period('2009-02', 'M')"
      ]
     },
     "execution_count": 39,
     "metadata": {},
     "output_type": "execute_result"
    }
   ],
   "source": [
    "erk.drawdown(ffme['LargeCap'])['Drawdown'].idxmin()"
   ]
  },
  {
   "cell_type": "code",
   "execution_count": 41,
   "id": "bb177109-72da-492a-afbe-e276d992ba52",
   "metadata": {},
   "outputs": [
    {
     "data": {
      "text/html": [
       "<div>\n",
       "<style scoped>\n",
       "    .dataframe tbody tr th:only-of-type {\n",
       "        vertical-align: middle;\n",
       "    }\n",
       "\n",
       "    .dataframe tbody tr th {\n",
       "        vertical-align: top;\n",
       "    }\n",
       "\n",
       "    .dataframe thead th {\n",
       "        text-align: right;\n",
       "    }\n",
       "</style>\n",
       "<table border=\"1\" class=\"dataframe\">\n",
       "  <thead>\n",
       "    <tr style=\"text-align: right;\">\n",
       "      <th></th>\n",
       "      <th>Convertible Arbitrage</th>\n",
       "      <th>CTA Global</th>\n",
       "      <th>Distressed Securities</th>\n",
       "      <th>Emerging Markets</th>\n",
       "      <th>Equity Market Neutral</th>\n",
       "      <th>Event Driven</th>\n",
       "      <th>Fixed Income Arbitrage</th>\n",
       "      <th>Global Macro</th>\n",
       "      <th>Long/Short Equity</th>\n",
       "      <th>Merger Arbitrage</th>\n",
       "      <th>Relative Value</th>\n",
       "      <th>Short Selling</th>\n",
       "      <th>Funds Of Funds</th>\n",
       "    </tr>\n",
       "    <tr>\n",
       "      <th>date</th>\n",
       "      <th></th>\n",
       "      <th></th>\n",
       "      <th></th>\n",
       "      <th></th>\n",
       "      <th></th>\n",
       "      <th></th>\n",
       "      <th></th>\n",
       "      <th></th>\n",
       "      <th></th>\n",
       "      <th></th>\n",
       "      <th></th>\n",
       "      <th></th>\n",
       "      <th></th>\n",
       "    </tr>\n",
       "  </thead>\n",
       "  <tbody>\n",
       "    <tr>\n",
       "      <th>2018-07</th>\n",
       "      <td>0.0021</td>\n",
       "      <td>-0.0058</td>\n",
       "      <td>0.0093</td>\n",
       "      <td>0.0040</td>\n",
       "      <td>-0.0010</td>\n",
       "      <td>0.0055</td>\n",
       "      <td>0.0022</td>\n",
       "      <td>-0.0014</td>\n",
       "      <td>0.0067</td>\n",
       "      <td>-0.0021</td>\n",
       "      <td>0.0045</td>\n",
       "      <td>-0.0052</td>\n",
       "      <td>0.0018</td>\n",
       "    </tr>\n",
       "    <tr>\n",
       "      <th>2018-08</th>\n",
       "      <td>0.0024</td>\n",
       "      <td>0.0166</td>\n",
       "      <td>0.0002</td>\n",
       "      <td>-0.0277</td>\n",
       "      <td>0.0004</td>\n",
       "      <td>0.0011</td>\n",
       "      <td>0.0017</td>\n",
       "      <td>-0.0007</td>\n",
       "      <td>0.0035</td>\n",
       "      <td>0.0050</td>\n",
       "      <td>-0.0002</td>\n",
       "      <td>-0.0214</td>\n",
       "      <td>0.0015</td>\n",
       "    </tr>\n",
       "    <tr>\n",
       "      <th>2018-09</th>\n",
       "      <td>0.0034</td>\n",
       "      <td>-0.0054</td>\n",
       "      <td>0.0050</td>\n",
       "      <td>-0.0110</td>\n",
       "      <td>-0.0016</td>\n",
       "      <td>0.0032</td>\n",
       "      <td>0.0036</td>\n",
       "      <td>0.0006</td>\n",
       "      <td>-0.0023</td>\n",
       "      <td>0.0028</td>\n",
       "      <td>0.0018</td>\n",
       "      <td>0.0036</td>\n",
       "      <td>-0.0022</td>\n",
       "    </tr>\n",
       "    <tr>\n",
       "      <th>2018-10</th>\n",
       "      <td>-0.0073</td>\n",
       "      <td>-0.0314</td>\n",
       "      <td>-0.0158</td>\n",
       "      <td>-0.0315</td>\n",
       "      <td>-0.0129</td>\n",
       "      <td>-0.0257</td>\n",
       "      <td>-0.0023</td>\n",
       "      <td>-0.0096</td>\n",
       "      <td>-0.0402</td>\n",
       "      <td>-0.0080</td>\n",
       "      <td>-0.0109</td>\n",
       "      <td>0.0237</td>\n",
       "      <td>-0.0269</td>\n",
       "    </tr>\n",
       "    <tr>\n",
       "      <th>2018-11</th>\n",
       "      <td>-0.0068</td>\n",
       "      <td>-0.0053</td>\n",
       "      <td>-0.0193</td>\n",
       "      <td>0.0120</td>\n",
       "      <td>-0.0211</td>\n",
       "      <td>-0.0034</td>\n",
       "      <td>-0.0067</td>\n",
       "      <td>-0.0087</td>\n",
       "      <td>-0.0044</td>\n",
       "      <td>0.0119</td>\n",
       "      <td>-0.0063</td>\n",
       "      <td>-0.0021</td>\n",
       "      <td>-0.0071</td>\n",
       "    </tr>\n",
       "  </tbody>\n",
       "</table>\n",
       "</div>"
      ],
      "text/plain": [
       "         Convertible Arbitrage  CTA Global  Distressed Securities  \\\n",
       "date                                                                \n",
       "2018-07                 0.0021     -0.0058                 0.0093   \n",
       "2018-08                 0.0024      0.0166                 0.0002   \n",
       "2018-09                 0.0034     -0.0054                 0.0050   \n",
       "2018-10                -0.0073     -0.0314                -0.0158   \n",
       "2018-11                -0.0068     -0.0053                -0.0193   \n",
       "\n",
       "         Emerging Markets  Equity Market Neutral  Event Driven  \\\n",
       "date                                                             \n",
       "2018-07            0.0040                -0.0010        0.0055   \n",
       "2018-08           -0.0277                 0.0004        0.0011   \n",
       "2018-09           -0.0110                -0.0016        0.0032   \n",
       "2018-10           -0.0315                -0.0129       -0.0257   \n",
       "2018-11            0.0120                -0.0211       -0.0034   \n",
       "\n",
       "         Fixed Income Arbitrage  Global Macro  Long/Short Equity  \\\n",
       "date                                                               \n",
       "2018-07                  0.0022       -0.0014             0.0067   \n",
       "2018-08                  0.0017       -0.0007             0.0035   \n",
       "2018-09                  0.0036        0.0006            -0.0023   \n",
       "2018-10                 -0.0023       -0.0096            -0.0402   \n",
       "2018-11                 -0.0067       -0.0087            -0.0044   \n",
       "\n",
       "         Merger Arbitrage  Relative Value  Short Selling  Funds Of Funds  \n",
       "date                                                                      \n",
       "2018-07           -0.0021          0.0045        -0.0052          0.0018  \n",
       "2018-08            0.0050         -0.0002        -0.0214          0.0015  \n",
       "2018-09            0.0028          0.0018         0.0036         -0.0022  \n",
       "2018-10           -0.0080         -0.0109         0.0237         -0.0269  \n",
       "2018-11            0.0119         -0.0063        -0.0021         -0.0071  "
      ]
     },
     "execution_count": 41,
     "metadata": {},
     "output_type": "execute_result"
    }
   ],
   "source": [
    "# 13.\n",
    "hfi = erk.get_hfi_returns()\n",
    "hfi.tail()"
   ]
  },
  {
   "cell_type": "code",
   "execution_count": 42,
   "id": "b92b3b7e-0434-47b8-9abd-a3ea367d8d1b",
   "metadata": {},
   "outputs": [
    {
     "data": {
      "text/html": [
       "<div>\n",
       "<style scoped>\n",
       "    .dataframe tbody tr th:only-of-type {\n",
       "        vertical-align: middle;\n",
       "    }\n",
       "\n",
       "    .dataframe tbody tr th {\n",
       "        vertical-align: top;\n",
       "    }\n",
       "\n",
       "    .dataframe thead th {\n",
       "        text-align: right;\n",
       "    }\n",
       "</style>\n",
       "<table border=\"1\" class=\"dataframe\">\n",
       "  <thead>\n",
       "    <tr style=\"text-align: right;\">\n",
       "      <th></th>\n",
       "      <th>Convertible Arbitrage</th>\n",
       "      <th>CTA Global</th>\n",
       "      <th>Distressed Securities</th>\n",
       "      <th>Emerging Markets</th>\n",
       "      <th>Equity Market Neutral</th>\n",
       "      <th>Event Driven</th>\n",
       "      <th>Fixed Income Arbitrage</th>\n",
       "      <th>Global Macro</th>\n",
       "      <th>Long/Short Equity</th>\n",
       "      <th>Merger Arbitrage</th>\n",
       "      <th>Relative Value</th>\n",
       "      <th>Short Selling</th>\n",
       "      <th>Funds Of Funds</th>\n",
       "    </tr>\n",
       "    <tr>\n",
       "      <th>date</th>\n",
       "      <th></th>\n",
       "      <th></th>\n",
       "      <th></th>\n",
       "      <th></th>\n",
       "      <th></th>\n",
       "      <th></th>\n",
       "      <th></th>\n",
       "      <th></th>\n",
       "      <th></th>\n",
       "      <th></th>\n",
       "      <th></th>\n",
       "      <th></th>\n",
       "      <th></th>\n",
       "    </tr>\n",
       "  </thead>\n",
       "  <tbody>\n",
       "    <tr>\n",
       "      <th>2009-01</th>\n",
       "      <td>0.0491</td>\n",
       "      <td>-0.0016</td>\n",
       "      <td>0.0082</td>\n",
       "      <td>-0.0112</td>\n",
       "      <td>0.0079</td>\n",
       "      <td>0.0132</td>\n",
       "      <td>0.0112</td>\n",
       "      <td>0.0029</td>\n",
       "      <td>-0.0017</td>\n",
       "      <td>0.0056</td>\n",
       "      <td>0.0100</td>\n",
       "      <td>0.0282</td>\n",
       "      <td>0.0060</td>\n",
       "    </tr>\n",
       "    <tr>\n",
       "      <th>2009-02</th>\n",
       "      <td>0.0164</td>\n",
       "      <td>-0.0031</td>\n",
       "      <td>-0.0122</td>\n",
       "      <td>-0.0133</td>\n",
       "      <td>-0.0046</td>\n",
       "      <td>-0.0091</td>\n",
       "      <td>0.0065</td>\n",
       "      <td>-0.0055</td>\n",
       "      <td>-0.0161</td>\n",
       "      <td>0.0006</td>\n",
       "      <td>-0.0016</td>\n",
       "      <td>0.0328</td>\n",
       "      <td>-0.0037</td>\n",
       "    </tr>\n",
       "  </tbody>\n",
       "</table>\n",
       "</div>"
      ],
      "text/plain": [
       "         Convertible Arbitrage  CTA Global  Distressed Securities  \\\n",
       "date                                                                \n",
       "2009-01                 0.0491     -0.0016                 0.0082   \n",
       "2009-02                 0.0164     -0.0031                -0.0122   \n",
       "\n",
       "         Emerging Markets  Equity Market Neutral  Event Driven  \\\n",
       "date                                                             \n",
       "2009-01           -0.0112                 0.0079        0.0132   \n",
       "2009-02           -0.0133                -0.0046       -0.0091   \n",
       "\n",
       "         Fixed Income Arbitrage  Global Macro  Long/Short Equity  \\\n",
       "date                                                               \n",
       "2009-01                  0.0112        0.0029            -0.0017   \n",
       "2009-02                  0.0065       -0.0055            -0.0161   \n",
       "\n",
       "         Merger Arbitrage  Relative Value  Short Selling  Funds Of Funds  \n",
       "date                                                                      \n",
       "2009-01            0.0056          0.0100         0.0282          0.0060  \n",
       "2009-02            0.0006         -0.0016         0.0328         -0.0037  "
      ]
     },
     "execution_count": 42,
     "metadata": {},
     "output_type": "execute_result"
    }
   ],
   "source": [
    "hfi = hfi.loc['2009':]\n",
    "hfi.head(2)"
   ]
  },
  {
   "cell_type": "code",
   "execution_count": 44,
   "id": "072deca9-7e80-4639-8aae-61f71e89f31a",
   "metadata": {},
   "outputs": [
    {
     "data": {
      "text/plain": [
       "Convertible Arbitrage     0.006681\n",
       "CTA Global                0.010996\n",
       "Distressed Securities     0.009498\n",
       "Emerging Markets          0.015276\n",
       "Equity Market Neutral     0.005186\n",
       "Event Driven              0.010135\n",
       "Fixed Income Arbitrage    0.003321\n",
       "Global Macro              0.005075\n",
       "Long/Short Equity         0.012139\n",
       "Merger Arbitrage          0.003611\n",
       "Relative Value            0.005711\n",
       "Short Selling             0.021240\n",
       "Funds Of Funds            0.007948\n",
       "dtype: float64"
      ]
     },
     "execution_count": 44,
     "metadata": {},
     "output_type": "execute_result"
    }
   ],
   "source": [
    "semidev_hfi = erk.semideviation(hfi)\n",
    "semidev_hfi"
   ]
  },
  {
   "cell_type": "code",
   "execution_count": 46,
   "id": "f6341ba5-3153-4cfe-813e-2ee8cb6c4689",
   "metadata": {},
   "outputs": [
    {
     "data": {
      "text/plain": [
       "'Short Selling'"
      ]
     },
     "execution_count": 46,
     "metadata": {},
     "output_type": "execute_result"
    }
   ],
   "source": [
    "semidev_hfi.idxmax()"
   ]
  },
  {
   "cell_type": "code",
   "execution_count": 47,
   "id": "723b5f47-3a67-43bd-af33-f62280809d00",
   "metadata": {},
   "outputs": [
    {
     "data": {
      "text/plain": [
       "'Fixed Income Arbitrage'"
      ]
     },
     "execution_count": 47,
     "metadata": {},
     "output_type": "execute_result"
    }
   ],
   "source": [
    "semidev_hfi.idxmin()"
   ]
  },
  {
   "cell_type": "code",
   "execution_count": 48,
   "id": "b3d1de3e-702a-4415-9e24-c9f2ddfcc4b8",
   "metadata": {},
   "outputs": [
    {
     "data": {
      "text/plain": [
       "Convertible Arbitrage     1.305911\n",
       "CTA Global                0.052062\n",
       "Distressed Securities    -0.254944\n",
       "Emerging Markets          0.033123\n",
       "Equity Market Neutral    -0.896327\n",
       "Event Driven             -0.488821\n",
       "Fixed Income Arbitrage    1.121453\n",
       "Global Macro              0.348184\n",
       "Long/Short Equity        -0.463703\n",
       "Merger Arbitrage         -0.551065\n",
       "Relative Value            0.159953\n",
       "Short Selling             0.456518\n",
       "Funds Of Funds           -0.646908\n",
       "dtype: float64"
      ]
     },
     "execution_count": 48,
     "metadata": {},
     "output_type": "execute_result"
    }
   ],
   "source": [
    "erk.skewness(hfi)"
   ]
  },
  {
   "cell_type": "code",
   "execution_count": 49,
   "id": "00591e5b-0889-4107-8955-4569bc308f5c",
   "metadata": {},
   "outputs": [
    {
     "data": {
      "text/html": [
       "<div>\n",
       "<style scoped>\n",
       "    .dataframe tbody tr th:only-of-type {\n",
       "        vertical-align: middle;\n",
       "    }\n",
       "\n",
       "    .dataframe tbody tr th {\n",
       "        vertical-align: top;\n",
       "    }\n",
       "\n",
       "    .dataframe thead th {\n",
       "        text-align: right;\n",
       "    }\n",
       "</style>\n",
       "<table border=\"1\" class=\"dataframe\">\n",
       "  <thead>\n",
       "    <tr style=\"text-align: right;\">\n",
       "      <th></th>\n",
       "      <th>0</th>\n",
       "      <th>1</th>\n",
       "      <th>2</th>\n",
       "    </tr>\n",
       "  </thead>\n",
       "  <tbody>\n",
       "    <tr>\n",
       "      <th>Convertible Arbitrage</th>\n",
       "      <td>0.006623</td>\n",
       "      <td>0.0045</td>\n",
       "      <td>True</td>\n",
       "    </tr>\n",
       "    <tr>\n",
       "      <th>CTA Global</th>\n",
       "      <td>0.000497</td>\n",
       "      <td>-0.0003</td>\n",
       "      <td>True</td>\n",
       "    </tr>\n",
       "    <tr>\n",
       "      <th>Distressed Securities</th>\n",
       "      <td>0.006559</td>\n",
       "      <td>0.0082</td>\n",
       "      <td>False</td>\n",
       "    </tr>\n",
       "    <tr>\n",
       "      <th>Emerging Markets</th>\n",
       "      <td>0.005205</td>\n",
       "      <td>0.0061</td>\n",
       "      <td>False</td>\n",
       "    </tr>\n",
       "    <tr>\n",
       "      <th>Equity Market Neutral</th>\n",
       "      <td>0.002556</td>\n",
       "      <td>0.0032</td>\n",
       "      <td>False</td>\n",
       "    </tr>\n",
       "    <tr>\n",
       "      <th>Event Driven</th>\n",
       "      <td>0.005595</td>\n",
       "      <td>0.0070</td>\n",
       "      <td>False</td>\n",
       "    </tr>\n",
       "    <tr>\n",
       "      <th>Fixed Income Arbitrage</th>\n",
       "      <td>0.005478</td>\n",
       "      <td>0.0050</td>\n",
       "      <td>True</td>\n",
       "    </tr>\n",
       "    <tr>\n",
       "      <th>Global Macro</th>\n",
       "      <td>0.002676</td>\n",
       "      <td>0.0020</td>\n",
       "      <td>True</td>\n",
       "    </tr>\n",
       "    <tr>\n",
       "      <th>Long/Short Equity</th>\n",
       "      <td>0.005209</td>\n",
       "      <td>0.0064</td>\n",
       "      <td>False</td>\n",
       "    </tr>\n",
       "    <tr>\n",
       "      <th>Merger Arbitrage</th>\n",
       "      <td>0.003716</td>\n",
       "      <td>0.0047</td>\n",
       "      <td>False</td>\n",
       "    </tr>\n",
       "    <tr>\n",
       "      <th>Relative Value</th>\n",
       "      <td>0.005452</td>\n",
       "      <td>0.0055</td>\n",
       "      <td>False</td>\n",
       "    </tr>\n",
       "    <tr>\n",
       "      <th>Short Selling</th>\n",
       "      <td>-0.010350</td>\n",
       "      <td>-0.0144</td>\n",
       "      <td>True</td>\n",
       "    </tr>\n",
       "    <tr>\n",
       "      <th>Funds Of Funds</th>\n",
       "      <td>0.002470</td>\n",
       "      <td>0.0039</td>\n",
       "      <td>False</td>\n",
       "    </tr>\n",
       "  </tbody>\n",
       "</table>\n",
       "</div>"
      ],
      "text/plain": [
       "                               0       1      2\n",
       "Convertible Arbitrage   0.006623  0.0045   True\n",
       "CTA Global              0.000497 -0.0003   True\n",
       "Distressed Securities   0.006559  0.0082  False\n",
       "Emerging Markets        0.005205  0.0061  False\n",
       "Equity Market Neutral   0.002556  0.0032  False\n",
       "Event Driven            0.005595  0.0070  False\n",
       "Fixed Income Arbitrage  0.005478  0.0050   True\n",
       "Global Macro            0.002676  0.0020   True\n",
       "Long/Short Equity       0.005209  0.0064  False\n",
       "Merger Arbitrage        0.003716  0.0047  False\n",
       "Relative Value          0.005452  0.0055  False\n",
       "Short Selling          -0.010350 -0.0144   True\n",
       "Funds Of Funds          0.002470  0.0039  False"
      ]
     },
     "execution_count": 49,
     "metadata": {},
     "output_type": "execute_result"
    }
   ],
   "source": [
    "pd.concat([hfi.mean(), hfi.median(), hfi.mean()>hfi.median()], axis=\"columns\")"
   ]
  },
  {
   "cell_type": "code",
   "execution_count": 50,
   "id": "a0a39cef-a778-4b06-85d7-945949e61151",
   "metadata": {},
   "outputs": [
    {
     "data": {
      "text/plain": [
       "'Equity Market Neutral'"
      ]
     },
     "execution_count": 50,
     "metadata": {},
     "output_type": "execute_result"
    }
   ],
   "source": [
    "erk.skewness(hfi).idxmin()"
   ]
  },
  {
   "cell_type": "code",
   "execution_count": 52,
   "id": "c9aa9dc0-727f-4542-b817-bdbb2ae3ee64",
   "metadata": {},
   "outputs": [
    {
     "data": {
      "text/html": [
       "<div>\n",
       "<style scoped>\n",
       "    .dataframe tbody tr th:only-of-type {\n",
       "        vertical-align: middle;\n",
       "    }\n",
       "\n",
       "    .dataframe tbody tr th {\n",
       "        vertical-align: top;\n",
       "    }\n",
       "\n",
       "    .dataframe thead th {\n",
       "        text-align: right;\n",
       "    }\n",
       "</style>\n",
       "<table border=\"1\" class=\"dataframe\">\n",
       "  <thead>\n",
       "    <tr style=\"text-align: right;\">\n",
       "      <th></th>\n",
       "      <th>Convertible Arbitrage</th>\n",
       "      <th>CTA Global</th>\n",
       "      <th>Distressed Securities</th>\n",
       "      <th>Emerging Markets</th>\n",
       "      <th>Equity Market Neutral</th>\n",
       "      <th>Event Driven</th>\n",
       "      <th>Fixed Income Arbitrage</th>\n",
       "      <th>Global Macro</th>\n",
       "      <th>Long/Short Equity</th>\n",
       "      <th>Merger Arbitrage</th>\n",
       "      <th>Relative Value</th>\n",
       "      <th>Short Selling</th>\n",
       "      <th>Funds Of Funds</th>\n",
       "    </tr>\n",
       "    <tr>\n",
       "      <th>date</th>\n",
       "      <th></th>\n",
       "      <th></th>\n",
       "      <th></th>\n",
       "      <th></th>\n",
       "      <th></th>\n",
       "      <th></th>\n",
       "      <th></th>\n",
       "      <th></th>\n",
       "      <th></th>\n",
       "      <th></th>\n",
       "      <th></th>\n",
       "      <th></th>\n",
       "      <th></th>\n",
       "    </tr>\n",
       "  </thead>\n",
       "  <tbody>\n",
       "    <tr>\n",
       "      <th>1997-01</th>\n",
       "      <td>0.0119</td>\n",
       "      <td>0.0393</td>\n",
       "      <td>0.0178</td>\n",
       "      <td>0.0791</td>\n",
       "      <td>0.0189</td>\n",
       "      <td>0.0213</td>\n",
       "      <td>0.0191</td>\n",
       "      <td>0.0573</td>\n",
       "      <td>0.0281</td>\n",
       "      <td>0.015</td>\n",
       "      <td>0.018</td>\n",
       "      <td>-0.0166</td>\n",
       "      <td>0.0317</td>\n",
       "    </tr>\n",
       "  </tbody>\n",
       "</table>\n",
       "</div>"
      ],
      "text/plain": [
       "         Convertible Arbitrage  CTA Global  Distressed Securities  \\\n",
       "date                                                                \n",
       "1997-01                 0.0119      0.0393                 0.0178   \n",
       "\n",
       "         Emerging Markets  Equity Market Neutral  Event Driven  \\\n",
       "date                                                             \n",
       "1997-01            0.0791                 0.0189        0.0213   \n",
       "\n",
       "         Fixed Income Arbitrage  Global Macro  Long/Short Equity  \\\n",
       "date                                                               \n",
       "1997-01                  0.0191        0.0573             0.0281   \n",
       "\n",
       "         Merger Arbitrage  Relative Value  Short Selling  Funds Of Funds  \n",
       "date                                                                      \n",
       "1997-01             0.015           0.018        -0.0166          0.0317  "
      ]
     },
     "execution_count": 52,
     "metadata": {},
     "output_type": "execute_result"
    }
   ],
   "source": [
    "#16\n",
    "hfi = erk.get_hfi_returns()\n",
    "hfi.head(1)"
   ]
  },
  {
   "cell_type": "code",
   "execution_count": 53,
   "id": "b803c0d7-e4e2-4f93-b7c7-6ab13df7e687",
   "metadata": {},
   "outputs": [
    {
     "data": {
      "text/html": [
       "<div>\n",
       "<style scoped>\n",
       "    .dataframe tbody tr th:only-of-type {\n",
       "        vertical-align: middle;\n",
       "    }\n",
       "\n",
       "    .dataframe tbody tr th {\n",
       "        vertical-align: top;\n",
       "    }\n",
       "\n",
       "    .dataframe thead th {\n",
       "        text-align: right;\n",
       "    }\n",
       "</style>\n",
       "<table border=\"1\" class=\"dataframe\">\n",
       "  <thead>\n",
       "    <tr style=\"text-align: right;\">\n",
       "      <th></th>\n",
       "      <th>Convertible Arbitrage</th>\n",
       "      <th>CTA Global</th>\n",
       "      <th>Distressed Securities</th>\n",
       "      <th>Emerging Markets</th>\n",
       "      <th>Equity Market Neutral</th>\n",
       "      <th>Event Driven</th>\n",
       "      <th>Fixed Income Arbitrage</th>\n",
       "      <th>Global Macro</th>\n",
       "      <th>Long/Short Equity</th>\n",
       "      <th>Merger Arbitrage</th>\n",
       "      <th>Relative Value</th>\n",
       "      <th>Short Selling</th>\n",
       "      <th>Funds Of Funds</th>\n",
       "    </tr>\n",
       "    <tr>\n",
       "      <th>date</th>\n",
       "      <th></th>\n",
       "      <th></th>\n",
       "      <th></th>\n",
       "      <th></th>\n",
       "      <th></th>\n",
       "      <th></th>\n",
       "      <th></th>\n",
       "      <th></th>\n",
       "      <th></th>\n",
       "      <th></th>\n",
       "      <th></th>\n",
       "      <th></th>\n",
       "      <th></th>\n",
       "    </tr>\n",
       "  </thead>\n",
       "  <tbody>\n",
       "    <tr>\n",
       "      <th>2000-01</th>\n",
       "      <td>0.0227</td>\n",
       "      <td>0.0128</td>\n",
       "      <td>0.0088</td>\n",
       "      <td>0.0077</td>\n",
       "      <td>0.0075</td>\n",
       "      <td>0.0088</td>\n",
       "      <td>0.0041</td>\n",
       "      <td>0.0021</td>\n",
       "      <td>0.0075</td>\n",
       "      <td>0.0143</td>\n",
       "      <td>0.0173</td>\n",
       "      <td>0.0427</td>\n",
       "      <td>0.0169</td>\n",
       "    </tr>\n",
       "  </tbody>\n",
       "</table>\n",
       "</div>"
      ],
      "text/plain": [
       "         Convertible Arbitrage  CTA Global  Distressed Securities  \\\n",
       "date                                                                \n",
       "2000-01                 0.0227      0.0128                 0.0088   \n",
       "\n",
       "         Emerging Markets  Equity Market Neutral  Event Driven  \\\n",
       "date                                                             \n",
       "2000-01            0.0077                 0.0075        0.0088   \n",
       "\n",
       "         Fixed Income Arbitrage  Global Macro  Long/Short Equity  \\\n",
       "date                                                               \n",
       "2000-01                  0.0041        0.0021             0.0075   \n",
       "\n",
       "         Merger Arbitrage  Relative Value  Short Selling  Funds Of Funds  \n",
       "date                                                                      \n",
       "2000-01            0.0143          0.0173         0.0427          0.0169  "
      ]
     },
     "execution_count": 53,
     "metadata": {},
     "output_type": "execute_result"
    }
   ],
   "source": [
    "hfi = hfi.loc['2000':]\n",
    "hfi.head(1)"
   ]
  },
  {
   "cell_type": "code",
   "execution_count": 54,
   "id": "16667155-8a1a-4009-b2a4-231286014638",
   "metadata": {},
   "outputs": [
    {
     "data": {
      "text/plain": [
       "'Fixed Income Arbitrage'"
      ]
     },
     "execution_count": 54,
     "metadata": {},
     "output_type": "execute_result"
    }
   ],
   "source": [
    "erk.kurtosis(hfi).idxmax()"
   ]
  },
  {
   "cell_type": "code",
   "execution_count": null,
   "id": "53aff7ea-de1d-45c9-b68c-88583cce3990",
   "metadata": {},
   "outputs": [],
   "source": []
  }
 ],
 "metadata": {
  "kernelspec": {
   "display_name": "Python 3",
   "language": "python",
   "name": "python3"
  },
  "language_info": {
   "codemirror_mode": {
    "name": "ipython",
    "version": 3
   },
   "file_extension": ".py",
   "mimetype": "text/x-python",
   "name": "python",
   "nbconvert_exporter": "python",
   "pygments_lexer": "ipython3",
   "version": "3.6.13"
  }
 },
 "nbformat": 4,
 "nbformat_minor": 5
}
