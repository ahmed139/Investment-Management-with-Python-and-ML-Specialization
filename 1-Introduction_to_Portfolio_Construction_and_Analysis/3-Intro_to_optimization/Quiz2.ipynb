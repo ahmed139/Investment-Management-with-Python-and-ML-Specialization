{
 "cells": [
  {
   "cell_type": "code",
   "execution_count": 2,
   "id": "4f5f83c2-d582-4f25-87c4-c2cb95243f7b",
   "metadata": {},
   "outputs": [
    {
     "name": "stdout",
     "output_type": "stream",
     "text": [
      "The autoreload extension is already loaded. To reload it, use:\n",
      "  %reload_ext autoreload\n"
     ]
    }
   ],
   "source": [
    "%load_ext autoreload\n",
    "%autoreload 2\n",
    "\n",
    "import pandas as pd\n",
    "import numpy as np\n",
    "import edhec_risk_kit as erk\n",
    "from scipy.optimize import minimize"
   ]
  },
  {
   "cell_type": "code",
   "execution_count": 4,
   "id": "6822861d-ec28-4349-a45f-8184dd8fc051",
   "metadata": {},
   "outputs": [],
   "source": [
    "hfi = erk.get_hfi_returns()\n",
    "er = erk.annualize_rets(hfi[\"2000\":], 12)\n",
    "cov = hfi[\"2000\":].cov()"
   ]
  },
  {
   "cell_type": "code",
   "execution_count": 5,
   "id": "b3d61ea6-656b-4208-bc65-5770c007b70b",
   "metadata": {},
   "outputs": [
    {
     "data": {
      "text/plain": [
       "3.14"
      ]
     },
     "execution_count": 5,
     "metadata": {},
     "output_type": "execute_result"
    }
   ],
   "source": [
    "# Q1 - Monthly parametric guassian VaR at the 1% level\n",
    "# of the distressed Securiteis strategy?\n",
    "(erk.var_gaussian(hfi[\"2000\":][\"Distressed Securities\"], level=1)*100).round(2)"
   ]
  },
  {
   "cell_type": "code",
   "execution_count": 6,
   "id": "ce6792ad-f5d2-4c34-b213-9c7e5a84c1e6",
   "metadata": {},
   "outputs": [
    {
     "data": {
      "text/plain": [
       "4.97"
      ]
     },
     "execution_count": 6,
     "metadata": {},
     "output_type": "execute_result"
    }
   ],
   "source": [
    "# Q2 - What was the 1% VaR for the same strategy after applying the Cornish-Fisher Adjustment?\n",
    "\n",
    "(erk.var_gaussian(hfi[\"2000\":][\"Distressed Securities\"], level=1, modified=True)*100).round(2)"
   ]
  },
  {
   "cell_type": "code",
   "execution_count": 7,
   "id": "df973b1f-cc1a-4914-a6dc-6858f5292310",
   "metadata": {},
   "outputs": [
    {
     "data": {
      "text/plain": [
       "4.26"
      ]
     },
     "execution_count": 7,
     "metadata": {},
     "output_type": "execute_result"
    }
   ],
   "source": [
    "# Q3 -  What was the Monthly Historic VaR at the 1% level (as a +ve number) \n",
    "# of the Distressed Securities strategy?\n",
    "\n",
    "(erk.var_historic(hfi[\"2000\":][\"Distressed Securities\"], level=1)*100).round(2)"
   ]
  },
  {
   "cell_type": "code",
   "execution_count": 10,
   "id": "22e1c54b-23c4-47df-b6e4-62abfe286da7",
   "metadata": {},
   "outputs": [
    {
     "data": {
      "text/plain": [
       "25.0"
      ]
     },
     "execution_count": 10,
     "metadata": {},
     "output_type": "execute_result"
    }
   ],
   "source": [
    "# Q4 - What is the weight of Steel in the EW Portfolio? \n",
    "\n",
    "ind = erk.get_ind_returns()\n",
    "er = erk.annualize_rets(ind[\"2013\":\"2017\"], 12)\n",
    "cov = ind[\"2013\":\"2017\"].cov()\n",
    "\n",
    "# Portfolio:\n",
    "l = ['Books', 'Steel', 'Oil', 'Mines']\n",
    "rf = 0.1 #risk free rate\n",
    "\n",
    "# Portfolio correspond simply to an allocation of capital\n",
    "# The weights correspond to the allocation\n",
    "weights = np.repeat(1/len(l), len(l))\n",
    "weights[1] * 100"
   ]
  },
  {
   "cell_type": "code",
   "execution_count": 13,
   "id": "7305f664-9ebd-45be-945a-79f6f118a9d5",
   "metadata": {},
   "outputs": [
    {
     "data": {
      "text/plain": [
       "100.0"
      ]
     },
     "execution_count": 13,
     "metadata": {},
     "output_type": "execute_result"
    }
   ],
   "source": [
    "# Q5 Question 5\n",
    "# What is the weight of the largest component of the MSR portfolio? \n",
    "weights_msr = erk.msr(rf, er[l], cov.loc[l,l])\n",
    "(weights_msr.max()*100).round(2)"
   ]
  },
  {
   "cell_type": "code",
   "execution_count": 19,
   "id": "d03f6c71-73cc-43e1-b1e4-2ee68a6e44ad",
   "metadata": {},
   "outputs": [
    {
     "data": {
      "text/plain": [
       "'Steel'"
      ]
     },
     "execution_count": 19,
     "metadata": {},
     "output_type": "execute_result"
    }
   ],
   "source": [
    "# Q6 Which of the 4 components has the largest weight in the MSR portfolio?\n",
    "\n",
    "l[weights_msr.argmax()]"
   ]
  },
  {
   "cell_type": "code",
   "execution_count": 20,
   "id": "7fe42f3e-0c94-451c-bc8e-6bf1a8858f67",
   "metadata": {},
   "outputs": [
    {
     "data": {
      "text/plain": [
       "array([  0., 100.,   0.,   0.])"
      ]
     },
     "execution_count": 20,
     "metadata": {},
     "output_type": "execute_result"
    }
   ],
   "source": [
    "# Q7 - How many of the components of the MSR portfolio have non-zero weights?  \n",
    "\n",
    "(weights_msr*100).round(2)"
   ]
  },
  {
   "cell_type": "code",
   "execution_count": 21,
   "id": "3cea0bca-f0e9-4894-8d2f-6eca0dfddbe7",
   "metadata": {},
   "outputs": [
    {
     "data": {
      "text/plain": [
       "47.7"
      ]
     },
     "execution_count": 21,
     "metadata": {},
     "output_type": "execute_result"
    }
   ],
   "source": [
    "# Q8 - \n",
    "\n",
    "weights_gmv = erk.gmv(cov.loc[l,l])\n",
    "(weights_gmv.max()*100).round(2)"
   ]
  },
  {
   "cell_type": "code",
   "execution_count": 22,
   "id": "71a9196d-f520-4374-9a91-180553771b9f",
   "metadata": {},
   "outputs": [
    {
     "data": {
      "text/plain": [
       "'Books'"
      ]
     },
     "execution_count": 22,
     "metadata": {},
     "output_type": "execute_result"
    }
   ],
   "source": [
    "# Q9\n",
    "l[weights_gmv.argmax()]"
   ]
  },
  {
   "cell_type": "code",
   "execution_count": 23,
   "id": "d269d097-43f3-4845-9ae5-21c214c53efa",
   "metadata": {},
   "outputs": [
    {
     "data": {
      "text/plain": [
       "array([47.7 ,  0.  , 43.41,  8.89])"
      ]
     },
     "execution_count": 23,
     "metadata": {},
     "output_type": "execute_result"
    }
   ],
   "source": [
    "# Q10\n",
    "(weights_gmv*100).round(2)"
   ]
  },
  {
   "cell_type": "code",
   "execution_count": 24,
   "id": "8187ba31-5871-4d34-a47f-145f77f92543",
   "metadata": {},
   "outputs": [
    {
     "data": {
      "text/plain": [
       "array([4.51375048e-15, 1.00000000e+00, 1.40512602e-16, 0.00000000e+00])"
      ]
     },
     "execution_count": 24,
     "metadata": {},
     "output_type": "execute_result"
    }
   ],
   "source": [
    "# Q11\n",
    "weights_msr"
   ]
  },
  {
   "cell_type": "code",
   "execution_count": 26,
   "id": "2f8eefd6-c270-4e5d-ae0d-c7b342348579",
   "metadata": {},
   "outputs": [
    {
     "data": {
      "text/plain": [
       "array([4.77024870e-01, 4.33680869e-19, 4.34112024e-01, 8.88631053e-02])"
      ]
     },
     "execution_count": 26,
     "metadata": {},
     "output_type": "execute_result"
    }
   ],
   "source": [
    "weights_gmv"
   ]
  },
  {
   "cell_type": "code",
   "execution_count": 32,
   "id": "0213f804-94ac-476b-a71c-9acd809a98d5",
   "metadata": {},
   "outputs": [],
   "source": [
    "cov =  ind[\"2018\"].cov()\n",
    "r = ind.loc[\"2018\"]"
   ]
  },
  {
   "cell_type": "code",
   "execution_count": 34,
   "id": "6eb19d6f-e102-409d-95f1-4b3678fabc8d",
   "metadata": {},
   "outputs": [
    {
     "data": {
      "text/plain": [
       "21.98"
      ]
     },
     "execution_count": 34,
     "metadata": {},
     "output_type": "execute_result"
    }
   ],
   "source": [
    "vol_msr = erk.portfolio_vol(weights_msr, cov.loc[l,l]) * np.sqrt(12)\n",
    "(vol_msr*100).round(2)"
   ]
  },
  {
   "cell_type": "code",
   "execution_count": 36,
   "id": "de671df2-303d-4b77-bef3-8492db65f2c5",
   "metadata": {},
   "outputs": [
    {
     "data": {
      "text/plain": [
       "18.97"
      ]
     },
     "execution_count": 36,
     "metadata": {},
     "output_type": "execute_result"
    }
   ],
   "source": [
    "# Q12\n",
    "\n",
    "vol_gmv = erk.portfolio_vol(weights_gmv, cov.loc[l, l]) * np.sqrt(12)\n",
    "(vol_gmv * 100).round(2)"
   ]
  },
  {
   "cell_type": "code",
   "execution_count": 37,
   "id": "74d0ad74-4abb-459a-ad1c-ca3cada5ab22",
   "metadata": {},
   "outputs": [],
   "source": [
    "a = np.random.randn(2, 3) # \n",
    "a.shape\n",
    "b = np.random.randn(2, 1)\n",
    "c = a + b"
   ]
  },
  {
   "cell_type": "code",
   "execution_count": 38,
   "id": "c5995557-049b-441c-898b-0a0a12f18e1c",
   "metadata": {},
   "outputs": [
    {
     "data": {
      "text/plain": [
       "array([[-1.21459538, -1.75775362, -1.56991031],\n",
       "       [ 0.40319433, -0.85884689, -1.68815787]])"
      ]
     },
     "execution_count": 38,
     "metadata": {},
     "output_type": "execute_result"
    }
   ],
   "source": [
    "c"
   ]
  },
  {
   "cell_type": "code",
   "execution_count": 39,
   "id": "510dd675-aec2-4c37-856c-20e9c959a997",
   "metadata": {},
   "outputs": [
    {
     "data": {
      "text/plain": [
       "array([[-0.82349576, -1.366654  , -1.17881069],\n",
       "       [ 0.11595742, -1.1460838 , -1.97539477]])"
      ]
     },
     "execution_count": 39,
     "metadata": {},
     "output_type": "execute_result"
    }
   ],
   "source": [
    "a"
   ]
  },
  {
   "cell_type": "code",
   "execution_count": 40,
   "id": "c64d63a9-cc61-4f6f-9b97-ffe383c1914a",
   "metadata": {},
   "outputs": [
    {
     "data": {
      "text/plain": [
       "array([[-0.39109962],\n",
       "       [ 0.2872369 ]])"
      ]
     },
     "execution_count": 40,
     "metadata": {},
     "output_type": "execute_result"
    }
   ],
   "source": [
    "b"
   ]
  },
  {
   "cell_type": "code",
   "execution_count": null,
   "id": "2768d358-8d15-4384-b1ec-d29efa0c3622",
   "metadata": {},
   "outputs": [],
   "source": []
  }
 ],
 "metadata": {
  "kernelspec": {
   "display_name": "Python 3",
   "language": "python",
   "name": "python3"
  },
  "language_info": {
   "codemirror_mode": {
    "name": "ipython",
    "version": 3
   },
   "file_extension": ".py",
   "mimetype": "text/x-python",
   "name": "python",
   "nbconvert_exporter": "python",
   "pygments_lexer": "ipython3",
   "version": "3.6.13"
  }
 },
 "nbformat": 4,
 "nbformat_minor": 5
}
