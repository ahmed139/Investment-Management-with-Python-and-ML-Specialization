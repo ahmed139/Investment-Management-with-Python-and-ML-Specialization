{
 "cells": [
  {
   "cell_type": "markdown",
   "id": "1561f2ac-c068-4060-9d34-d60ca0723fd7",
   "metadata": {},
   "source": [
    "# Applying Quadprog to Draw the Efficient Frontier\n",
    "\n",
    "## Convex Optimization to Draw the Efficient Frontier\n",
    "\n",
    "Return:\n",
    "\n",
    "* Given a set of asset returns volatilities and correlations we can plot the efficient frontier.\n",
    "* We need to have expressions for the return and volatility for a portfolio.\n",
    "\n",
    "$$R_p = \\sum^k_{i=1}w_iR_i$$\n",
    "\n",
    "> The volatility of the portfolio of assets depends on the correlations but the returns of the portfolio depends only on the returns of the component assets and their weights in the portfolio\n",
    "\n",
    "Variance:\n",
    "\n",
    "* The expression for portfolio variance $\\sigma^2$ is a generalization of the 2-asset case\n",
    "\n",
    "$$\\sigma^2_p = \\sum^k_{i=1}\\sum^k_{j=1}w_iw_j\\sigma_i\\sigma_j\\rho_{ij}$$"
   ]
  },
  {
   "cell_type": "markdown",
   "id": "4d9bce1e-ca01-4714-a2c3-a9c1b414522b",
   "metadata": {},
   "source": [
    "* In order to find the efficient frontier we use a quadratic optimizer\n",
    "\n",
    "> The Covariance Matrix is a symmetric matrix with variances along the diagonal and the product of the pairwise correlation and the individual volatililites (i.e. the covariance) on the off-diagonal entries"
   ]
  },
  {
   "cell_type": "markdown",
   "id": "0f247c2c-3018-4315-8975-cfc5e701dcf5",
   "metadata": {},
   "source": [
    "## Lab Session - Efficient Frontier - Part III - Applying Quadprog to Draw the Efficient Frontier\n",
    "\n",
    "\n",
    "In order to plot the frontier for portfolios with more than 2 assets, we need to find the weights of the portfolio on the efficient frontier.\n",
    "\n",
    "We start by creating the same sort of function that we already created for the 2 asset case:\n",
    "\n",
    "```python\n",
    "\n",
    "def plot_ef(n_points, er, cov):\n",
    "    \"\"\"\n",
    "    Plots the multi-asset efficient frontier\n",
    "    \"\"\"\n",
    "    # weights = ???? # we need to implement: optimal_weights(n_points, er, cov)\n",
    "    # we want to minimize volatility given a target return\n",
    "    # It is going to be a function of returns\n",
    "    # Otherwise, everything stays the same... well besides the weights.\n",
    "    # In N-Asset portfolio, finding the weights is the most\n",
    "    # Challenging part\n",
    "    weights = optimal_weights(n_points, er, cov)\n",
    "\n",
    "    \n",
    "    rets = [portfolio_return(w, er) for w in weights]\n",
    "    vols = [portfolio_vol(w, cov) for w in weights]\n",
    "    ef = pd.DataFrame({\n",
    "        \"Returns\": rets, \n",
    "        \"Volatility\": vols\n",
    "    })\n",
    "    return ef.plot.line(x=\"Volatility\", y=\"Returns\", style='.-')\n",
    "```\n",
    "\n",
    "But let's start by loading up the data as usual:"
   ]
  },
  {
   "cell_type": "code",
   "execution_count": 5,
   "id": "129ecbaa-19ad-4611-b015-92abfb1dcee2",
   "metadata": {},
   "outputs": [
    {
     "name": "stdout",
     "output_type": "stream",
     "text": [
      "The autoreload extension is already loaded. To reload it, use:\n",
      "  %reload_ext autoreload\n"
     ]
    }
   ],
   "source": [
    "%load_ext autoreload\n",
    "%autoreload 2\n",
    "\n",
    "import pandas as pd\n",
    "import numpy as np\n",
    "import edhec_risk_kit as erk"
   ]
  },
  {
   "cell_type": "code",
   "execution_count": 4,
   "id": "dbf79453-a04e-4bb2-9693-bc5e9d4016a7",
   "metadata": {},
   "outputs": [],
   "source": [
    "ind = erk.get_ind_returns()\n",
    "er = erk.annualize_rets(ind[\"1996\":\"2000\"], 12)\n",
    "cov = ind.loc[\"1996\":\"2000\"].cov()"
   ]
  },
  {
   "cell_type": "markdown",
   "id": "cd91dd3f-cc45-4197-bdcd-2bbe641cdcdc",
   "metadata": {},
   "source": [
    "In order to find the optimal weights, we need a function that will minimize the volatility for a given level of return.\n",
    "\n",
    "\n",
    "```python\n",
    "from scipy.optimize import minimize\n",
    "\n",
    "def minimize_vol(target_return, er, cov):\n",
    "    \"\"\"\n",
    "    Returns the optimal weights that achieve the target return\n",
    "    given a set of expected returns and a covariance matrix\n",
    "    \"\"\"\n",
    "    # 1. first thing to do is to get the number of assets we have \n",
    "    n = er.shape[0]\n",
    "    \"\"\"\n",
    "    The way the  optimizer works: you need to give it an objective function, \n",
    "    some constraints, and an initial guess\n",
    "    \"\"\"\n",
    "    # So let's start by the initial guess:\n",
    "    # Equally weighted gues\n",
    "    init_guess = np.repeat(1/n, n)\n",
    "    # For us the bounds are between 0 and 1\n",
    "    # for n assets\n",
    "    # Bounds is a touple of touples\n",
    "    bounds = ((0.0, 1.0),) * n # an N-tuple of 2-tuples!\n",
    "    # construct the constraints\n",
    "    # I have to make sure that the weights sum to 1:\n",
    "    weights_sum_to_1 = {'type': 'eq',\n",
    "                        'fun': lambda weights: np.sum(weights) - 1\n",
    "    }\n",
    "    return_is_target = {'type': 'eq', # Type is equality\n",
    "                        'args': (er,), # additional argument is excpected returns\n",
    "                        # Functions: stom when targeted return == portfolio return\n",
    "                        'fun': lambda weights, er: target_return - erk.portfolio_return(weights,er)\n",
    "    }\n",
    "    \n",
    "    # and finally we are able to run the optimizer\n",
    "    # We want to minimize the volatility \n",
    "    # obtained by calling erk.portfolio_vol\n",
    "    # SLSQP minimizer method is the implementation of the quadratic programming optimizer\n",
    "    weights = minimize(erk.portfolio_vol, init_guess,\n",
    "                       args=(cov,), method='SLSQP',\n",
    "                       options={'disp': False},\n",
    "                       constraints=(weights_sum_to_1,return_is_target),\n",
    "                       bounds=bounds)\n",
    "    return weights.x\n",
    "```\n",
    "Besudes that, everything stays the same... well besides the weights.\n",
    "So In N-Asset portfolio, finding the weights is the most Challenging part\n",
    "\n",
    "Let's use this to recreate the result we got from frontier for the 2-Asset optimization between \"Games\" and \"Fin\". Let's plot that efficient frontier as we did last time:"
   ]
  },
  {
   "cell_type": "code",
   "execution_count": 13,
   "id": "3289f009-b088-4533-a50e-afa529f8ef74",
   "metadata": {},
   "outputs": [
    {
     "data": {
      "image/png": "[encoded data removed]",
      "text/plain": [
       "<Figure size 432x288 with 1 Axes>"
      ]
     },
     "metadata": {
      "needs_background": "light"
     },
     "output_type": "display_data"
    }
   ],
   "source": [
    "l = [\"Games\", \"Fin\"]\n",
    "erk.plot_ef2(20, er[l], cov.loc[l,l]);"
   ]
  },
  {
   "cell_type": "markdown",
   "id": "39babe24-af0f-47e6-93e0-9e8e82ce25fc",
   "metadata": {},
   "source": [
    "The Efficient Frontier for the portfolio that has a target return of 0.15 is approx 0.056, so let's see if our optimizer is able to locate it."
   ]
  },
  {
   "cell_type": "code",
   "execution_count": 14,
   "id": "3f2f1b61-3cc8-4aac-887e-c95b2b79e68c",
   "metadata": {},
   "outputs": [
    {
     "data": {
      "text/plain": [
       "0.056163669406706564"
      ]
     },
     "execution_count": 14,
     "metadata": {},
     "output_type": "execute_result"
    }
   ],
   "source": [
    "# Let's see if our function match the plot_ef2 function\n",
    "# By vol of 15%\n",
    "weights_15 = erk.minimize_vol(0.15, er[l], cov.loc[l,l])\n",
    "vol_15 = erk.portfolio_vol(weights_15, cov.loc[l,l])\n",
    "vol_15"
   ]
  },
  {
   "cell_type": "code",
   "execution_count": 16,
   "id": "a2e540de-213c-4f5b-9533-3019c1a6da79",
   "metadata": {},
   "outputs": [
    {
     "data": {
      "text/plain": [
       "0.06256928405288453"
      ]
     },
     "execution_count": 16,
     "metadata": {},
     "output_type": "execute_result"
    }
   ],
   "source": [
    "# Vol of 22%\n",
    "weights_22 = erk.minimize_vol(0.22, er[l], cov.loc[l,l])\n",
    "vol_22 = erk.portfolio_vol(weights_22, cov.loc[l,l])\n",
    "vol_22"
   ]
  },
  {
   "cell_type": "markdown",
   "id": "2dc3b4ea-2e1b-4f43-9d8a-2cfb98f3f71b",
   "metadata": {},
   "source": [
    "Now that we can find the weights to minimize the vol given a target return, we can plot the efficient frontier by dividing up the range from the highest to the lowest possible return into a grid, and finding the portfolio that targets the minimum volatility given a particular targeted rate of return"
   ]
  },
  {
   "cell_type": "code",
   "execution_count": 11,
   "id": "57fd6371-14fd-48f1-bf5e-382e4624b8eb",
   "metadata": {},
   "outputs": [
    {
     "data": {
      "image/png": "[encoded data removed]",
      "text/plain": [
       "<Figure size 432x288 with 1 Axes>"
      ]
     },
     "metadata": {
      "needs_background": "light"
     },
     "output_type": "display_data"
    }
   ],
   "source": [
    "l = [\"Smoke\", \"Fin\", \"Games\", \"Coal\"]\n",
    "erk.plot_ef(25, er[l], cov.loc[l,l]);"
   ]
  },
  {
   "cell_type": "code",
   "execution_count": null,
   "id": "fec3559c-6817-4cad-b6b7-3428c83645e1",
   "metadata": {},
   "outputs": [],
   "source": []
  }
 ],
 "metadata": {
  "kernelspec": {
   "display_name": "Python 3",
   "language": "python",
   "name": "python3"
  },
  "language_info": {
   "codemirror_mode": {
    "name": "ipython",
    "version": 3
   },
   "file_extension": ".py",
   "mimetype": "text/x-python",
   "name": "python",
   "nbconvert_exporter": "python",
   "pygments_lexer": "ipython3",
   "version": "3.6.13"
  }
 },
 "nbformat": 4,
 "nbformat_minor": 5
}
