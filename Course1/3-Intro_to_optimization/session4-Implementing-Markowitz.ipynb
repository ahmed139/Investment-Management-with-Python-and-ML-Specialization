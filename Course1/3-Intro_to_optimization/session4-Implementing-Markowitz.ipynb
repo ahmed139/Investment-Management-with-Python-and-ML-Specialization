{
 "cells": [
  {
   "cell_type": "markdown",
   "id": "f99c9e63-60f4-4219-908e-a21742c35489",
   "metadata": {},
   "source": [
    "# Section 2 - Implementing Markowitz\n",
    "\n"
   ]
  },
  {
   "cell_type": "markdown",
   "id": "ddb41e3a-5512-4ef5-9b9a-dfebe1a14290",
   "metadata": {},
   "source": [
    "* In the presence of a rik-free asset the efficient becomes a straigt line...\n",
    "* The capital market line!\n",
    "* All investors should hold a combination of the risk-free asset and the portfolio that maximzes th reward-per-risk ratio."
   ]
  },
  {
   "cell_type": "markdown",
   "id": "92b481b5-daa4-4caa-824f-ad6253cdfe8b",
   "metadata": {},
   "source": [
    "## Labor Session - Finding the Max Sharpe Ration Portfolio!\n",
    "\n",
    "We've already seen that given a set of expected returns and covariance matrix, we can plot the efficient frontier. In this lab, we'll extend the code to locate the point on the efficient frontier that we are most interested in, which is the *Tangency* portfolio or the *Max Sharpe Ratio* portfolio.\n",
    "\n",
    "Let's start by the usual imports, and load in the data:"
   ]
  },
  {
   "cell_type": "code",
   "execution_count": 6,
   "id": "f13ce612-3496-41d4-b54b-cb25a543fdce",
   "metadata": {},
   "outputs": [
    {
     "name": "stdout",
     "output_type": "stream",
     "text": [
      "The autoreload extension is already loaded. To reload it, use:\n",
      "  %reload_ext autoreload\n"
     ]
    }
   ],
   "source": [
    "%load_ext autoreload\n",
    "%autoreload 2\n",
    "\n",
    "import pandas as pd\n",
    "import numpy as np\n",
    "import edhec_risk_kit as erk"
   ]
  },
  {
   "cell_type": "code",
   "execution_count": 10,
   "id": "1ae92f98-cd88-4f1a-8b78-cbe61b1ce53d",
   "metadata": {},
   "outputs": [],
   "source": [
    "ind = erk.get_ind_returns()\n",
    "er = erk.annualize_rets(ind[\"1996\": \"2000\"], 12)\n",
    "cov = ind[\"1996\":\"2000\"].cov()"
   ]
  },
  {
   "cell_type": "code",
   "execution_count": 8,
   "id": "13858075-f0b1-4964-8dc9-174d3aa31f47",
   "metadata": {},
   "outputs": [
    {
     "data": {
      "text/html": [
       "<div>\n",
       "<style scoped>\n",
       "    .dataframe tbody tr th:only-of-type {\n",
       "        vertical-align: middle;\n",
       "    }\n",
       "\n",
       "    .dataframe tbody tr th {\n",
       "        vertical-align: top;\n",
       "    }\n",
       "\n",
       "    .dataframe thead th {\n",
       "        text-align: right;\n",
       "    }\n",
       "</style>\n",
       "<table border=\"1\" class=\"dataframe\">\n",
       "  <thead>\n",
       "    <tr style=\"text-align: right;\">\n",
       "      <th></th>\n",
       "      <th>Food</th>\n",
       "      <th>Beer</th>\n",
       "      <th>Smoke</th>\n",
       "      <th>Games</th>\n",
       "      <th>Books</th>\n",
       "      <th>Hshld</th>\n",
       "      <th>Clths</th>\n",
       "      <th>Hlth</th>\n",
       "      <th>Chems</th>\n",
       "      <th>Txtls</th>\n",
       "      <th>...</th>\n",
       "      <th>Telcm</th>\n",
       "      <th>Servs</th>\n",
       "      <th>BusEq</th>\n",
       "      <th>Paper</th>\n",
       "      <th>Trans</th>\n",
       "      <th>Whlsl</th>\n",
       "      <th>Rtail</th>\n",
       "      <th>Meals</th>\n",
       "      <th>Fin</th>\n",
       "      <th>Other</th>\n",
       "    </tr>\n",
       "  </thead>\n",
       "  <tbody>\n",
       "    <tr>\n",
       "      <th>2015-03</th>\n",
       "      <td>-0.0072</td>\n",
       "      <td>-0.0207</td>\n",
       "      <td>-0.0847</td>\n",
       "      <td>-0.0260</td>\n",
       "      <td>0.0056</td>\n",
       "      <td>-0.0198</td>\n",
       "      <td>0.0123</td>\n",
       "      <td>0.0084</td>\n",
       "      <td>-0.0356</td>\n",
       "      <td>0.0333</td>\n",
       "      <td>...</td>\n",
       "      <td>-0.0220</td>\n",
       "      <td>-0.0151</td>\n",
       "      <td>-0.0307</td>\n",
       "      <td>-0.0173</td>\n",
       "      <td>-0.0362</td>\n",
       "      <td>0.0054</td>\n",
       "      <td>0.0101</td>\n",
       "      <td>-0.0029</td>\n",
       "      <td>0.0011</td>\n",
       "      <td>-0.0173</td>\n",
       "    </tr>\n",
       "    <tr>\n",
       "      <th>2010-03</th>\n",
       "      <td>0.0444</td>\n",
       "      <td>0.0611</td>\n",
       "      <td>0.0612</td>\n",
       "      <td>0.1206</td>\n",
       "      <td>0.0553</td>\n",
       "      <td>0.0213</td>\n",
       "      <td>0.1139</td>\n",
       "      <td>0.0361</td>\n",
       "      <td>0.0736</td>\n",
       "      <td>0.0842</td>\n",
       "      <td>...</td>\n",
       "      <td>0.0788</td>\n",
       "      <td>0.0522</td>\n",
       "      <td>0.0812</td>\n",
       "      <td>0.0586</td>\n",
       "      <td>0.0811</td>\n",
       "      <td>0.0599</td>\n",
       "      <td>0.0614</td>\n",
       "      <td>0.0827</td>\n",
       "      <td>0.0814</td>\n",
       "      <td>0.0907</td>\n",
       "    </tr>\n",
       "    <tr>\n",
       "      <th>1962-08</th>\n",
       "      <td>0.0004</td>\n",
       "      <td>0.0445</td>\n",
       "      <td>0.0165</td>\n",
       "      <td>0.0595</td>\n",
       "      <td>0.0423</td>\n",
       "      <td>0.0136</td>\n",
       "      <td>0.0316</td>\n",
       "      <td>-0.0792</td>\n",
       "      <td>0.0446</td>\n",
       "      <td>-0.0072</td>\n",
       "      <td>...</td>\n",
       "      <td>0.0158</td>\n",
       "      <td>0.0118</td>\n",
       "      <td>0.0303</td>\n",
       "      <td>0.0290</td>\n",
       "      <td>0.0337</td>\n",
       "      <td>0.0433</td>\n",
       "      <td>0.0443</td>\n",
       "      <td>0.0074</td>\n",
       "      <td>0.0380</td>\n",
       "      <td>0.0581</td>\n",
       "    </tr>\n",
       "  </tbody>\n",
       "</table>\n",
       "<p>3 rows × 30 columns</p>\n",
       "</div>"
      ],
      "text/plain": [
       "           Food    Beer   Smoke   Games   Books   Hshld   Clths    Hlth  \\\n",
       "2015-03 -0.0072 -0.0207 -0.0847 -0.0260  0.0056 -0.0198  0.0123  0.0084   \n",
       "2010-03  0.0444  0.0611  0.0612  0.1206  0.0553  0.0213  0.1139  0.0361   \n",
       "1962-08  0.0004  0.0445  0.0165  0.0595  0.0423  0.0136  0.0316 -0.0792   \n",
       "\n",
       "          Chems   Txtls  ...   Telcm   Servs   BusEq   Paper   Trans   Whlsl  \\\n",
       "2015-03 -0.0356  0.0333  ... -0.0220 -0.0151 -0.0307 -0.0173 -0.0362  0.0054   \n",
       "2010-03  0.0736  0.0842  ...  0.0788  0.0522  0.0812  0.0586  0.0811  0.0599   \n",
       "1962-08  0.0446 -0.0072  ...  0.0158  0.0118  0.0303  0.0290  0.0337  0.0433   \n",
       "\n",
       "          Rtail   Meals     Fin   Other  \n",
       "2015-03  0.0101 -0.0029  0.0011 -0.0173  \n",
       "2010-03  0.0614  0.0827  0.0814  0.0907  \n",
       "1962-08  0.0443  0.0074  0.0380  0.0581  \n",
       "\n",
       "[3 rows x 30 columns]"
      ]
     },
     "execution_count": 8,
     "metadata": {},
     "output_type": "execute_result"
    }
   ],
   "source": [
    "ind.sample(3)"
   ]
  },
  {
   "cell_type": "code",
   "execution_count": 9,
   "id": "454e08f4-1574-47eb-a085-0170a661b676",
   "metadata": {},
   "outputs": [
    {
     "data": {
      "text/plain": [
       "Trans    0.071099\n",
       "Steel    0.115809\n",
       "Meals    0.067400\n",
       "dtype: float64"
      ]
     },
     "execution_count": 9,
     "metadata": {},
     "output_type": "execute_result"
    }
   ],
   "source": [
    "er.sample(3)"
   ]
  },
  {
   "cell_type": "code",
   "execution_count": 12,
   "id": "4be81f39-4d44-4482-83f6-84cf4b43efce",
   "metadata": {},
   "outputs": [
    {
     "data": {
      "text/html": [
       "<div>\n",
       "<style scoped>\n",
       "    .dataframe tbody tr th:only-of-type {\n",
       "        vertical-align: middle;\n",
       "    }\n",
       "\n",
       "    .dataframe tbody tr th {\n",
       "        vertical-align: top;\n",
       "    }\n",
       "\n",
       "    .dataframe thead th {\n",
       "        text-align: right;\n",
       "    }\n",
       "</style>\n",
       "<table border=\"1\" class=\"dataframe\">\n",
       "  <thead>\n",
       "    <tr style=\"text-align: right;\">\n",
       "      <th></th>\n",
       "      <th>Food</th>\n",
       "      <th>Beer</th>\n",
       "      <th>Smoke</th>\n",
       "      <th>Games</th>\n",
       "      <th>Books</th>\n",
       "      <th>Hshld</th>\n",
       "      <th>Clths</th>\n",
       "      <th>Hlth</th>\n",
       "      <th>Chems</th>\n",
       "      <th>Txtls</th>\n",
       "      <th>...</th>\n",
       "      <th>Telcm</th>\n",
       "      <th>Servs</th>\n",
       "      <th>BusEq</th>\n",
       "      <th>Paper</th>\n",
       "      <th>Trans</th>\n",
       "      <th>Whlsl</th>\n",
       "      <th>Rtail</th>\n",
       "      <th>Meals</th>\n",
       "      <th>Fin</th>\n",
       "      <th>Other</th>\n",
       "    </tr>\n",
       "  </thead>\n",
       "  <tbody>\n",
       "    <tr>\n",
       "      <th>Food</th>\n",
       "      <td>0.002609</td>\n",
       "      <td>0.002379</td>\n",
       "      <td>0.002061</td>\n",
       "      <td>0.000846</td>\n",
       "      <td>0.001035</td>\n",
       "      <td>0.001374</td>\n",
       "      <td>0.001733</td>\n",
       "      <td>0.001230</td>\n",
       "      <td>0.001414</td>\n",
       "      <td>0.001216</td>\n",
       "      <td>...</td>\n",
       "      <td>0.000667</td>\n",
       "      <td>0.000237</td>\n",
       "      <td>-0.000315</td>\n",
       "      <td>0.001429</td>\n",
       "      <td>0.001534</td>\n",
       "      <td>0.000740</td>\n",
       "      <td>0.001363</td>\n",
       "      <td>0.001230</td>\n",
       "      <td>0.002132</td>\n",
       "      <td>0.001057</td>\n",
       "    </tr>\n",
       "    <tr>\n",
       "      <th>Beer</th>\n",
       "      <td>0.002379</td>\n",
       "      <td>0.005264</td>\n",
       "      <td>0.001359</td>\n",
       "      <td>0.001348</td>\n",
       "      <td>0.000865</td>\n",
       "      <td>0.002804</td>\n",
       "      <td>0.001704</td>\n",
       "      <td>0.001955</td>\n",
       "      <td>0.001460</td>\n",
       "      <td>0.002005</td>\n",
       "      <td>...</td>\n",
       "      <td>0.001146</td>\n",
       "      <td>0.000438</td>\n",
       "      <td>0.000007</td>\n",
       "      <td>0.001710</td>\n",
       "      <td>0.002284</td>\n",
       "      <td>0.000697</td>\n",
       "      <td>0.001690</td>\n",
       "      <td>0.001822</td>\n",
       "      <td>0.002571</td>\n",
       "      <td>0.001383</td>\n",
       "    </tr>\n",
       "    <tr>\n",
       "      <th>Smoke</th>\n",
       "      <td>0.002061</td>\n",
       "      <td>0.001359</td>\n",
       "      <td>0.008349</td>\n",
       "      <td>0.000379</td>\n",
       "      <td>-0.000128</td>\n",
       "      <td>0.001167</td>\n",
       "      <td>0.000950</td>\n",
       "      <td>0.001038</td>\n",
       "      <td>0.000853</td>\n",
       "      <td>0.000779</td>\n",
       "      <td>...</td>\n",
       "      <td>0.000062</td>\n",
       "      <td>-0.000218</td>\n",
       "      <td>-0.000120</td>\n",
       "      <td>0.001327</td>\n",
       "      <td>0.000396</td>\n",
       "      <td>0.001707</td>\n",
       "      <td>0.000105</td>\n",
       "      <td>0.000703</td>\n",
       "      <td>0.001312</td>\n",
       "      <td>0.001741</td>\n",
       "    </tr>\n",
       "  </tbody>\n",
       "</table>\n",
       "<p>3 rows × 30 columns</p>\n",
       "</div>"
      ],
      "text/plain": [
       "           Food      Beer     Smoke     Games     Books     Hshld     Clths  \\\n",
       "Food   0.002609  0.002379  0.002061  0.000846  0.001035  0.001374  0.001733   \n",
       "Beer   0.002379  0.005264  0.001359  0.001348  0.000865  0.002804  0.001704   \n",
       "Smoke  0.002061  0.001359  0.008349  0.000379 -0.000128  0.001167  0.000950   \n",
       "\n",
       "           Hlth     Chems     Txtls  ...     Telcm     Servs     BusEq  \\\n",
       "Food   0.001230  0.001414  0.001216  ...  0.000667  0.000237 -0.000315   \n",
       "Beer   0.001955  0.001460  0.002005  ...  0.001146  0.000438  0.000007   \n",
       "Smoke  0.001038  0.000853  0.000779  ...  0.000062 -0.000218 -0.000120   \n",
       "\n",
       "          Paper     Trans     Whlsl     Rtail     Meals       Fin     Other  \n",
       "Food   0.001429  0.001534  0.000740  0.001363  0.001230  0.002132  0.001057  \n",
       "Beer   0.001710  0.002284  0.000697  0.001690  0.001822  0.002571  0.001383  \n",
       "Smoke  0.001327  0.000396  0.001707  0.000105  0.000703  0.001312  0.001741  \n",
       "\n",
       "[3 rows x 30 columns]"
      ]
     },
     "execution_count": 12,
     "metadata": {},
     "output_type": "execute_result"
    }
   ],
   "source": [
    "cov.head(3)"
   ]
  },
  {
   "cell_type": "markdown",
   "id": "8dab2e49-d6aa-472b-82c7-a41240709d59",
   "metadata": {},
   "source": [
    "We already know how to identify points on the curve if we are given a target rate of return. Instead of minimizing the vol based on a target return, we want to find that one point on the curve that maximized the Harpe Ration, given the risk free rate. This is implemented in the function `.msr(riskfree_rate, er, cov)` in the helper module `edhec_risk_kit.py`.\n",
    "\n",
    "So let's guess where the point might be:"
   ]
  },
  {
   "cell_type": "code",
   "execution_count": 21,
   "id": "54f26101-40e6-4851-ad7a-af5dad4c543c",
   "metadata": {},
   "outputs": [
    {
     "data": {
      "text/plain": [
       "(0.0, 0.14178366250989724)"
      ]
     },
     "execution_count": 21,
     "metadata": {},
     "output_type": "execute_result"
    },
    {
     "data": {
      "image/png": "[encoded data removed]",
      "text/plain": [
       "<Figure size 432x288 with 1 Axes>"
      ]
     },
     "metadata": {
      "needs_background": "light"
     },
     "output_type": "display_data"
    }
   ],
   "source": [
    "ax = erk.plot_ef(20, er, cov)\n",
    "ax.set_xlim(left=0)"
   ]
  },
  {
   "cell_type": "code",
   "execution_count": 23,
   "id": "ce87985b-da8f-4514-be02-0ff49fe83b98",
   "metadata": {},
   "outputs": [
    {
     "data": {
      "image/png": "[encoded data removed]",
      "text/plain": [
       "<Figure size 432x288 with 1 Axes>"
      ]
     },
     "metadata": {
      "needs_background": "light"
     },
     "output_type": "display_data"
    }
   ],
   "source": [
    "# Let's plot the multi-asset efficient frontier\n",
    "# Or the Max Sharpe Ratio Portfolio\n",
    "erk.plot_ef(20, er, cov, style='x-', show_cml=True, riskfree_rate=0.1);"
   ]
  },
  {
   "cell_type": "markdown",
   "id": "e1766667-3e02-4d04-874b-3e8ec7375d69",
   "metadata": {},
   "source": [
    "## Lack of Robustness of Markowitz Analysis\n",
    "\n",
    "* Estimation error is the key challenge in portfolio analysis\n",
    "*  If you feed an optimizer with parameters that are severely mis-estimated, with lot of estimation errors embedded in them, you're going to get a portfolio that's not going to be a very meaningful\n",
    "*  optimizers tend to act as error maximizing machines. Typically, the asset that gets the largest allocation is the asset that suffers from the largest amount of estimation risk.\n",
    "* Expected return estimates are much harder to obtain with a good degree of accuracy compared to variance-covariance matrix estimates\n",
    "* The problem is particularly important when it comes to expected return estimates\n",
    "\n",
    "Improving parameter estimates:\n",
    "\n",
    "* Various methodologies exist for improving estimates for expected returns and covariance aparemters\n",
    "* However, some uncertainty always remains which are large fro expected returns\n",
    "* It is possible to avoid using expected returns in the markowitz analysis. Since it is very noisy\n",
    "* It is done by focusing on the only portfolio on the efficient frontier for which no expected return parameter is needed.\n",
    "* That portfolio is known as *the global minimum variance porfolio*. Extremely popular in investment management:\n",
    "* We minimize the variance without any expected return targets.\n",
    "\n",
    "> The GMV is the portfolio that is least sensitive to errors in parameter estimates. Since it requires no expected return estimates, it is only sensitive to errors in risk parameter estimates.  "
   ]
  },
  {
   "cell_type": "markdown",
   "id": "7da66585-cb49-4d66-ac26-487a2da77088",
   "metadata": {},
   "source": [
    "## To Wrap UP\n",
    "\n",
    "* Markowitz analysis is hardly used in practice since it tends to yield unreasonable corner solutions\n",
    "* This is bc. of the presence of parameter estimates\n",
    "\n",
    "Question:\n",
    "Consider the S&P500 universe. Which portfolio is most likely to have the highest Sharpe ratio? \n",
    "[ ] The Maximum Sharpe ratio portfolio estimated on the basis of sample estimates for covariance and expected return parameters?\n",
    "        Nope the MSR portfolio based on sample estimates is highly subject to estimatio errors, and will most likely have a poor out-of-sample Sharpe\n",
    "[x] The equally-weighted portfolio?\n",
    "        Yes: The EW is not subject to any estimation error and as a resutl will likely have a higher risk-adjusted performance compared to the MSR portfolio based on sample estimates."
   ]
  },
  {
   "cell_type": "markdown",
   "id": "0f45c7ce-c2ae-4f7f-8137-d84042ae4b47",
   "metadata": {},
   "source": [
    "## Lab Session - Lack of Robustness of the Markowitz procedure and the GMV portfolio"
   ]
  },
  {
   "cell_type": "markdown",
   "id": "d7ab5c47-bccb-400d-9bff-036ad24098cb",
   "metadata": {},
   "source": [
    "Although the promise of the Markowitz procedure is exciting, it tends to fall apart in practice. The problem is that we rarely know Expected Returns and Expected Covariance in advance. Our estimates almost certainly contain some estimation error, and we'll see that the procedure is highly sensitve to there errors, which tend to get exaggerated in the portfolio."
   ]
  },
  {
   "cell_type": "code",
   "execution_count": 24,
   "id": "5837f28f-925f-49cb-a41d-ea0a74e1019c",
   "metadata": {},
   "outputs": [
    {
     "data": {
      "text/plain": [
       "array([0.75040363, 0.24959637])"
      ]
     },
     "execution_count": 24,
     "metadata": {},
     "output_type": "execute_result"
    }
   ],
   "source": [
    "# Let's look at 2-asset portfolio and find the optimal wights\n",
    "# if we had known what hte returns would be\n",
    "\n",
    "l = [\"Food\", \"Steel\"]\n",
    "# riskfree rate of 10%\n",
    "erk.msr(0.1, np.array(er[l]), cov.loc[l, l])"
   ]
  },
  {
   "cell_type": "code",
   "execution_count": 25,
   "id": "c3b16c83-2b62-4f90-b9e3-1a884701b8d4",
   "metadata": {},
   "outputs": [
    {
     "data": {
      "text/plain": [
       "Food     0.116799\n",
       "Steel    0.115809\n",
       "dtype: float64"
      ]
     },
     "execution_count": 25,
     "metadata": {},
     "output_type": "execute_result"
    }
   ],
   "source": [
    "# Let's look at the returns of the two assets that dictated those weights\n",
    "er[l]"
   ]
  },
  {
   "cell_type": "code",
   "execution_count": 27,
   "id": "1920fcf6-ab87-4174-8f00-3ce4db760ac3",
   "metadata": {},
   "outputs": [
    {
     "data": {
      "text/plain": [
       "array([0.57930354, 0.42069646])"
      ]
     },
     "execution_count": 27,
     "metadata": {},
     "output_type": "execute_result"
    }
   ],
   "source": [
    "# Now assume that we had a really good estimator, \n",
    "# and we were off by only a fraction of a percent in our estimate\n",
    "erk.msr(0.1, np.array([.11, .12]), cov.loc[l, l])"
   ]
  },
  {
   "cell_type": "markdown",
   "id": "3ae88e0a-72f5-4c11-9157-bace1c228670",
   "metadata": {
    "tags": []
   },
   "source": [
    "We see that even a small change in the estimate causes a major change in the weights. What if we were off by around 1% to 2% percent in each estimate and estimated 10% and 13% instead of the return of 11.6% and 11.5%?"
   ]
  },
  {
   "cell_type": "code",
   "execution_count": 28,
   "id": "79e75d49-4d5c-419e-847d-9b8182c9a0b5",
   "metadata": {},
   "outputs": [
    {
     "data": {
      "text/plain": [
       "array([0., 1.])"
      ]
     },
     "execution_count": 28,
     "metadata": {},
     "output_type": "execute_result"
    }
   ],
   "source": [
    "erk.msr(.1, np.array([.1, .13]), cov.loc[l,l])"
   ]
  },
  {
   "cell_type": "markdown",
   "id": "f3c0055d-e91b-460a-9c14-a5b2ddab40eb",
   "metadata": {},
   "source": [
    "### # Avoiding estimating returns\n",
    "\n",
    "Let's look at the efficient frontier one more time, and plot the efficient frontier again."
   ]
  },
  {
   "cell_type": "code",
   "execution_count": 29,
   "id": "cac61a44-e786-4258-b6a7-27afe69cbaee",
   "metadata": {},
   "outputs": [
    {
     "data": {
      "text/plain": [
       "<AxesSubplot:xlabel='Volatility'>"
      ]
     },
     "execution_count": 29,
     "metadata": {},
     "output_type": "execute_result"
    },
    {
     "data": {
      "image/png": "[encoded data removed]",
      "text/plain": [
       "<Figure size 432x288 with 1 Axes>"
      ]
     },
     "metadata": {
      "needs_background": "light"
     },
     "output_type": "display_data"
    }
   ],
   "source": [
    "erk.plot_ef(20, er, cov, show_cml=True, riskfree_rate=0.1)"
   ]
  },
  {
   "cell_type": "markdown",
   "id": "aa035330-9168-4e7c-8138-f6ab4eb7b5f9",
   "metadata": {},
   "source": [
    "One way to avoid this estimation game is to skip the entire process and just rely on _naive_ diversification, which means hold all stocks with equal weight. We can add the EW portfolio to the plot by enhancing the `plot_ef` function as follows:\n",
    "\n",
    "```python\n",
    "    if show_ew:\n",
    "        n = er.shape[0]\n",
    "        w_ew = np.repeat(1/n, n)\n",
    "        r_ew = portfolio_return(w_ew, er)\n",
    "        vol_ew = portfolio_vol(w_ew, cov)\n",
    "        # add EW\n",
    "        ax.plot([vol_ew], [r_ew], color='goldenrod', marker='o', markersize=10)\n",
    "```\n"
   ]
  },
  {
   "cell_type": "code",
   "execution_count": 30,
   "id": "55ec82f1-68ba-4ec2-9c1e-604a22ff920b",
   "metadata": {},
   "outputs": [
    {
     "data": {
      "text/plain": [
       "<AxesSubplot:xlabel='Volatility'>"
      ]
     },
     "execution_count": 30,
     "metadata": {},
     "output_type": "execute_result"
    },
    {
     "data": {
      "image/png": "[encoded data removed]",
      "text/plain": [
       "<Figure size 432x288 with 1 Axes>"
      ]
     },
     "metadata": {
      "needs_background": "light"
     },
     "output_type": "display_data"
    }
   ],
   "source": [
    "erk.plot_ef(20, er, cov, show_cml=True, riskfree_rate=0.1, show_ew=True)"
   ]
  },
  {
   "cell_type": "markdown",
   "id": "345852da-b7e5-4d44-82b9-ca5a2c694cbd",
   "metadata": {},
   "source": [
    "Researchers have shown that the EW portfolio is a remarkably good portfolio to hold...  \n",
    "However, there is another point on the efficient frontier that is very interesting: the nose of the hull, which is the portfolio of lowest volatility across all possible portfolio. This is called the Minimum Volatility or the Global Minimum Volatility or GMV portfolio."
   ]
  },
  {
   "cell_type": "markdown",
   "id": "4ba8008d-d3f3-4c54-808c-31049b113d63",
   "metadata": {},
   "source": [
    "The interesting thing about it is that if you assume that all returns are the same, the optimizer cannot improve the sharpe ratio through raising returns, and so it must do so by lowering volatility. This means that if we just skip any returns estimation and assume all returns have the same return, we'd get the weights of the GMV portfolio!"
   ]
  },
  {
   "cell_type": "code",
   "execution_count": 31,
   "id": "41d72361-dbe5-4eba-82e1-39b2ae1eea52",
   "metadata": {},
   "outputs": [
    {
     "data": {
      "text/plain": [
       "<AxesSubplot:xlabel='Volatility'>"
      ]
     },
     "execution_count": 31,
     "metadata": {},
     "output_type": "execute_result"
    },
    {
     "data": {
      "image/png": "[encoded data removed]",
      "text/plain": [
       "<Figure size 432x288 with 1 Axes>"
      ]
     },
     "metadata": {
      "needs_background": "light"
     },
     "output_type": "display_data"
    }
   ],
   "source": [
    "erk.plot_ef(20, er, cov, show_cml=True, riskfree_rate=0.1, show_ew=True, show_gmv=True)"
   ]
  },
  {
   "cell_type": "code",
   "execution_count": null,
   "id": "dc013919-5513-4a68-9262-50fc251c75b2",
   "metadata": {},
   "outputs": [],
   "source": []
  }
 ],
 "metadata": {
  "kernelspec": {
   "display_name": "Python 3",
   "language": "python",
   "name": "python3"
  },
  "language_info": {
   "codemirror_mode": {
    "name": "ipython",
    "version": 3
   },
   "file_extension": ".py",
   "mimetype": "text/x-python",
   "name": "python",
   "nbconvert_exporter": "python",
   "pygments_lexer": "ipython3",
   "version": "3.6.13"
  }
 },
 "nbformat": 4,
 "nbformat_minor": 5
}
